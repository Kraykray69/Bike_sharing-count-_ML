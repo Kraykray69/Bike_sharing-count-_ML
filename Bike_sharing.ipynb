{
  "nbformat": 4,
  "nbformat_minor": 0,
  "metadata": {
    "colab": {
      "provenance": [],
      "authorship_tag": "ABX9TyMo6IwtvT0i1c3n/zVYkBIP",
      "include_colab_link": true
    },
    "kernelspec": {
      "name": "python3",
      "display_name": "Python 3"
    },
    "language_info": {
      "name": "python"
    }
  },
  "cells": [
    {
      "cell_type": "markdown",
      "metadata": {
        "id": "view-in-github",
        "colab_type": "text"
      },
      "source": [
        "<a href=\"https://colab.research.google.com/github/Kraykray69/Bike_sharing-count-_ML/blob/main/Bike_sharing.ipynb\" target=\"_parent\"><img src=\"https://colab.research.google.com/assets/colab-badge.svg\" alt=\"Open In Colab\"/></a>"
      ]
    },
    {
      "cell_type": "markdown",
      "source": [
        "# Install/Import Necessary Libraries\n"
      ],
      "metadata": {
        "id": "uabWd-i4e9Tz"
      }
    },
    {
      "cell_type": "code",
      "source": [
        "# Install ucimlrepo\n",
        "!pip install ucimlrepo gradio scikit-learn\n",
        "\n",
        "# Import the dataset\n",
        "from ucimlrepo import fetch_ucirepo\n",
        "import pandas as pd\n",
        "import numpy as np\n",
        "import pickle\n",
        "from sklearn.model_selection import train_test_split\n",
        "from sklearn.preprocessing import StandardScaler, OneHotEncoder\n",
        "from sklearn.pipeline import Pipeline\n",
        "from sklearn.compose import ColumnTransformer\n",
        "from sklearn.metrics import mean_squared_error, mean_absolute_error, r2_score\n",
        "from sklearn.linear_model import LinearRegression\n",
        "from sklearn.ensemble import RandomForestRegressor\n",
        "from sklearn.tree import DecisionTreeRegressor\n",
        "from sklearn.svm import SVR\n",
        "from sklearn.neighbors import KNeighborsRegressor\n",
        "import gradio as gr"
      ],
      "metadata": {
        "colab": {
          "base_uri": "https://localhost:8080/"
        },
        "collapsed": true,
        "id": "pHrs3fU0dxzf",
        "outputId": "8986d345-8a0c-495e-a93b-f7bc304c079b"
      },
      "execution_count": 13,
      "outputs": [
        {
          "output_type": "stream",
          "name": "stdout",
          "text": [
            "Requirement already satisfied: ucimlrepo in /usr/local/lib/python3.10/dist-packages (0.0.7)\n",
            "Requirement already satisfied: gradio in /usr/local/lib/python3.10/dist-packages (5.1.0)\n",
            "Requirement already satisfied: scikit-learn in /usr/local/lib/python3.10/dist-packages (1.5.2)\n",
            "Requirement already satisfied: pandas>=1.0.0 in /usr/local/lib/python3.10/dist-packages (from ucimlrepo) (2.2.2)\n",
            "Requirement already satisfied: certifi>=2020.12.5 in /usr/local/lib/python3.10/dist-packages (from ucimlrepo) (2024.8.30)\n",
            "Requirement already satisfied: aiofiles<24.0,>=22.0 in /usr/local/lib/python3.10/dist-packages (from gradio) (23.2.1)\n",
            "Requirement already satisfied: anyio<5.0,>=3.0 in /usr/local/lib/python3.10/dist-packages (from gradio) (3.7.1)\n",
            "Requirement already satisfied: fastapi<1.0 in /usr/local/lib/python3.10/dist-packages (from gradio) (0.115.2)\n",
            "Requirement already satisfied: ffmpy in /usr/local/lib/python3.10/dist-packages (from gradio) (0.4.0)\n",
            "Requirement already satisfied: gradio-client==1.4.0 in /usr/local/lib/python3.10/dist-packages (from gradio) (1.4.0)\n",
            "Requirement already satisfied: httpx>=0.24.1 in /usr/local/lib/python3.10/dist-packages (from gradio) (0.27.2)\n",
            "Requirement already satisfied: huggingface-hub>=0.25.1 in /usr/local/lib/python3.10/dist-packages (from gradio) (0.25.2)\n",
            "Requirement already satisfied: jinja2<4.0 in /usr/local/lib/python3.10/dist-packages (from gradio) (3.1.4)\n",
            "Requirement already satisfied: markupsafe~=2.0 in /usr/local/lib/python3.10/dist-packages (from gradio) (2.1.5)\n",
            "Requirement already satisfied: numpy<3.0,>=1.0 in /usr/local/lib/python3.10/dist-packages (from gradio) (1.26.4)\n",
            "Requirement already satisfied: orjson~=3.0 in /usr/local/lib/python3.10/dist-packages (from gradio) (3.10.7)\n",
            "Requirement already satisfied: packaging in /usr/local/lib/python3.10/dist-packages (from gradio) (24.1)\n",
            "Requirement already satisfied: pillow<11.0,>=8.0 in /usr/local/lib/python3.10/dist-packages (from gradio) (10.4.0)\n",
            "Requirement already satisfied: pydantic>=2.0 in /usr/local/lib/python3.10/dist-packages (from gradio) (2.9.2)\n",
            "Requirement already satisfied: pydub in /usr/local/lib/python3.10/dist-packages (from gradio) (0.25.1)\n",
            "Requirement already satisfied: python-multipart>=0.0.9 in /usr/local/lib/python3.10/dist-packages (from gradio) (0.0.12)\n",
            "Requirement already satisfied: pyyaml<7.0,>=5.0 in /usr/local/lib/python3.10/dist-packages (from gradio) (6.0.2)\n",
            "Requirement already satisfied: ruff>=0.2.2 in /usr/local/lib/python3.10/dist-packages (from gradio) (0.6.9)\n",
            "Requirement already satisfied: semantic-version~=2.0 in /usr/local/lib/python3.10/dist-packages (from gradio) (2.10.0)\n",
            "Requirement already satisfied: tomlkit==0.12.0 in /usr/local/lib/python3.10/dist-packages (from gradio) (0.12.0)\n",
            "Requirement already satisfied: typer<1.0,>=0.12 in /usr/local/lib/python3.10/dist-packages (from gradio) (0.12.5)\n",
            "Requirement already satisfied: typing-extensions~=4.0 in /usr/local/lib/python3.10/dist-packages (from gradio) (4.12.2)\n",
            "Requirement already satisfied: uvicorn>=0.14.0 in /usr/local/lib/python3.10/dist-packages (from gradio) (0.32.0)\n",
            "Requirement already satisfied: fsspec in /usr/local/lib/python3.10/dist-packages (from gradio-client==1.4.0->gradio) (2024.6.1)\n",
            "Requirement already satisfied: websockets<13.0,>=10.0 in /usr/local/lib/python3.10/dist-packages (from gradio-client==1.4.0->gradio) (12.0)\n",
            "Requirement already satisfied: scipy>=1.6.0 in /usr/local/lib/python3.10/dist-packages (from scikit-learn) (1.13.1)\n",
            "Requirement already satisfied: joblib>=1.2.0 in /usr/local/lib/python3.10/dist-packages (from scikit-learn) (1.4.2)\n",
            "Requirement already satisfied: threadpoolctl>=3.1.0 in /usr/local/lib/python3.10/dist-packages (from scikit-learn) (3.5.0)\n",
            "Requirement already satisfied: idna>=2.8 in /usr/local/lib/python3.10/dist-packages (from anyio<5.0,>=3.0->gradio) (3.10)\n",
            "Requirement already satisfied: sniffio>=1.1 in /usr/local/lib/python3.10/dist-packages (from anyio<5.0,>=3.0->gradio) (1.3.1)\n",
            "Requirement already satisfied: exceptiongroup in /usr/local/lib/python3.10/dist-packages (from anyio<5.0,>=3.0->gradio) (1.2.2)\n",
            "Requirement already satisfied: starlette<0.41.0,>=0.37.2 in /usr/local/lib/python3.10/dist-packages (from fastapi<1.0->gradio) (0.40.0)\n",
            "Requirement already satisfied: httpcore==1.* in /usr/local/lib/python3.10/dist-packages (from httpx>=0.24.1->gradio) (1.0.6)\n",
            "Requirement already satisfied: h11<0.15,>=0.13 in /usr/local/lib/python3.10/dist-packages (from httpcore==1.*->httpx>=0.24.1->gradio) (0.14.0)\n",
            "Requirement already satisfied: filelock in /usr/local/lib/python3.10/dist-packages (from huggingface-hub>=0.25.1->gradio) (3.16.1)\n",
            "Requirement already satisfied: requests in /usr/local/lib/python3.10/dist-packages (from huggingface-hub>=0.25.1->gradio) (2.32.3)\n",
            "Requirement already satisfied: tqdm>=4.42.1 in /usr/local/lib/python3.10/dist-packages (from huggingface-hub>=0.25.1->gradio) (4.66.5)\n",
            "Requirement already satisfied: python-dateutil>=2.8.2 in /usr/local/lib/python3.10/dist-packages (from pandas>=1.0.0->ucimlrepo) (2.8.2)\n",
            "Requirement already satisfied: pytz>=2020.1 in /usr/local/lib/python3.10/dist-packages (from pandas>=1.0.0->ucimlrepo) (2024.2)\n",
            "Requirement already satisfied: tzdata>=2022.7 in /usr/local/lib/python3.10/dist-packages (from pandas>=1.0.0->ucimlrepo) (2024.2)\n",
            "Requirement already satisfied: annotated-types>=0.6.0 in /usr/local/lib/python3.10/dist-packages (from pydantic>=2.0->gradio) (0.7.0)\n",
            "Requirement already satisfied: pydantic-core==2.23.4 in /usr/local/lib/python3.10/dist-packages (from pydantic>=2.0->gradio) (2.23.4)\n",
            "Requirement already satisfied: click>=8.0.0 in /usr/local/lib/python3.10/dist-packages (from typer<1.0,>=0.12->gradio) (8.1.7)\n",
            "Requirement already satisfied: shellingham>=1.3.0 in /usr/local/lib/python3.10/dist-packages (from typer<1.0,>=0.12->gradio) (1.5.4)\n",
            "Requirement already satisfied: rich>=10.11.0 in /usr/local/lib/python3.10/dist-packages (from typer<1.0,>=0.12->gradio) (13.9.2)\n",
            "Requirement already satisfied: six>=1.5 in /usr/local/lib/python3.10/dist-packages (from python-dateutil>=2.8.2->pandas>=1.0.0->ucimlrepo) (1.16.0)\n",
            "Requirement already satisfied: markdown-it-py>=2.2.0 in /usr/local/lib/python3.10/dist-packages (from rich>=10.11.0->typer<1.0,>=0.12->gradio) (3.0.0)\n",
            "Requirement already satisfied: pygments<3.0.0,>=2.13.0 in /usr/local/lib/python3.10/dist-packages (from rich>=10.11.0->typer<1.0,>=0.12->gradio) (2.18.0)\n",
            "Requirement already satisfied: charset-normalizer<4,>=2 in /usr/local/lib/python3.10/dist-packages (from requests->huggingface-hub>=0.25.1->gradio) (3.4.0)\n",
            "Requirement already satisfied: urllib3<3,>=1.21.1 in /usr/local/lib/python3.10/dist-packages (from requests->huggingface-hub>=0.25.1->gradio) (2.2.3)\n",
            "Requirement already satisfied: mdurl~=0.1 in /usr/local/lib/python3.10/dist-packages (from markdown-it-py>=2.2.0->rich>=10.11.0->typer<1.0,>=0.12->gradio) (0.1.2)\n"
          ]
        }
      ]
    },
    {
      "cell_type": "markdown",
      "source": [
        "Remove all warnings to make the output clean\n"
      ],
      "metadata": {
        "id": "17obknTukO0k"
      }
    },
    {
      "cell_type": "code",
      "source": [
        "import warnings\n",
        "warnings.filterwarnings(\"ignore\")"
      ],
      "metadata": {
        "id": "imkdfIo4cQ7O"
      },
      "execution_count": 14,
      "outputs": []
    },
    {
      "cell_type": "markdown",
      "source": [
        "# Fetch The Dataset"
      ],
      "metadata": {
        "id": "33B97wo7fTRN"
      }
    },
    {
      "cell_type": "code",
      "source": [
        "# Cell 2: Fetch the Dataset\n",
        "bike_sharing = fetch_ucirepo(id=275)\n",
        "X = bike_sharing.data.features\n",
        "y = bike_sharing.data.targets"
      ],
      "metadata": {
        "id": "ypX4MFFqfOnp"
      },
      "execution_count": 15,
      "outputs": []
    },
    {
      "cell_type": "markdown",
      "source": [
        "# Data Preprocessing"
      ],
      "metadata": {
        "id": "HJfTHU6UfbKi"
      }
    },
    {
      "cell_type": "code",
      "source": [
        "# Cell 3: Data Preprocessing Function\n",
        "def preprocess_data(X):\n",
        "    # Drop unnecessary columns\n",
        "    X_cleaned = X.drop(columns=['instant', 'dteday'], errors='ignore')\n",
        "\n",
        "    # Separate categorical and numerical columns\n",
        "    categorical_features = ['season', 'mnth', 'hr', 'holiday', 'weekday', 'workingday', 'weathersit']\n",
        "    numerical_features = ['temp', 'atemp', 'hum', 'windspeed']\n",
        "\n",
        "    return X_cleaned, categorical_features, numerical_features"
      ],
      "metadata": {
        "id": "ZxwTeTWQfWfV"
      },
      "execution_count": 16,
      "outputs": []
    },
    {
      "cell_type": "markdown",
      "source": [
        "# Train & Evaluate Models"
      ],
      "metadata": {
        "id": "kF4YKavvfi3Y"
      }
    },
    {
      "cell_type": "code",
      "source": [
        "# Cell 4: Train and Evaluate Models Function\n",
        "def train_and_evaluate_models(X_train, X_test, y_train, y_test):\n",
        "    models = {\n",
        "        'Random Forest': RandomForestRegressor(),\n",
        "        'Linear Regression': LinearRegression(),\n",
        "        'Support Vector Regressor': SVR(),\n",
        "        'Decision Tree Regressor': DecisionTreeRegressor(),\n",
        "        'K-Neighbors Regressor': KNeighborsRegressor()\n",
        "    }\n",
        "\n",
        "    results = []\n",
        "\n",
        "    for name, model in models.items():\n",
        "        model.fit(X_train, y_train)\n",
        "        y_pred = model.predict(X_test)\n",
        "\n",
        "        mse = mean_squared_error(y_test, y_pred)\n",
        "        mae = mean_absolute_error(y_test, y_pred)\n",
        "        r2 = r2_score(y_test, y_pred)\n",
        "\n",
        "        results.append({\n",
        "            'Model': name,\n",
        "            'MSE': mse,\n",
        "            'MAE': mae,\n",
        "            'R2 Score': r2\n",
        "        })\n",
        "\n",
        "    return pd.DataFrame(results)\n"
      ],
      "metadata": {
        "id": "RBSkTJDQfhU_"
      },
      "execution_count": 17,
      "outputs": []
    },
    {
      "cell_type": "markdown",
      "source": [
        "# Main Function"
      ],
      "metadata": {
        "id": "U8EECQHQfuvp"
      }
    },
    {
      "cell_type": "code",
      "source": [
        "# Cell 5: Main Function to Execute the Pipeline\n",
        "def main():\n",
        "    # Preprocess data\n",
        "    X_cleaned, categorical_features, numerical_features = preprocess_data(X)\n",
        "\n",
        "    # Split the data\n",
        "    X_train, X_test, y_train, y_test = train_test_split(X_cleaned, y, test_size=0.2, random_state=42)\n",
        "\n",
        "\n",
        "    # Train and evaluate models\n",
        "    results = train_and_evaluate_models(X_train, X_test, y_train, y_test)\n",
        "\n",
        "    # Save the best model (Random Forest) pipeline for prediction\n",
        "    best_model = RandomForestRegressor()\n",
        "    pipeline = Pipeline(steps=[('preprocessor', ColumnTransformer(\n",
        "                                    transformers=[\n",
        "                                        ('num', StandardScaler(), numerical_features),\n",
        "                                        ('cat', OneHotEncoder(handle_unknown='ignore'), categorical_features)\n",
        "                                    ])),\n",
        "                               ('model', best_model)])\n",
        "\n",
        "    # Train the best model\n",
        "    pipeline.fit(X_train, y_train)\n",
        "\n",
        "    # Save the pipeline\n",
        "    with open('best_model_pipeline.pkl', 'wb') as f:\n",
        "        pickle.dump(pipeline, f)\n",
        "\n",
        "    return results\n",
        "\n",
        "# Cell 6: Run the Main Function and Display Results\n",
        "results_table = main()\n",
        "\n",
        "# Print the results outside the Gradio interface\n",
        "print(\"Model Evaluation Results:\")\n",
        "print(results_table)"
      ],
      "metadata": {
        "colab": {
          "base_uri": "https://localhost:8080/"
        },
        "id": "cIxwKOfffmmY",
        "outputId": "4a9a2352-a60b-48bc-a20d-d2ce9774c964"
      },
      "execution_count": 18,
      "outputs": [
        {
          "output_type": "stream",
          "name": "stdout",
          "text": [
            "Model Evaluation Results:\n",
            "                      Model           MSE         MAE  R2 Score\n",
            "0             Random Forest   1766.525404   24.886271  0.944213\n",
            "1         Linear Regression  19379.828368  104.803351  0.387981\n",
            "2  Support Vector Regressor  19686.603575   89.643671  0.378293\n",
            "3   Decision Tree Regressor   3344.868024   34.008774  0.894368\n",
            "4     K-Neighbors Regressor   2777.113820   33.165880  0.912298\n"
          ]
        }
      ]
    },
    {
      "cell_type": "markdown",
      "source": [
        "# Load Model"
      ],
      "metadata": {
        "id": "CLwr5rN7f_Mq"
      }
    },
    {
      "cell_type": "code",
      "source": [
        "# Cell 7: Load Model Function\n",
        "def load_model():\n",
        "    try:\n",
        "        model = pickle.load(open('best_model_pipeline.pkl', 'rb'))\n",
        "        return model\n",
        "    except Exception as e:\n",
        "        return f\"Error loading model: {str(e)}\""
      ],
      "metadata": {
        "id": "Aag5X3MYf6qi"
      },
      "execution_count": 19,
      "outputs": []
    },
    {
      "cell_type": "markdown",
      "source": [
        "# Prediction"
      ],
      "metadata": {
        "id": "cGYPDbXdgId8"
      }
    },
    {
      "cell_type": "code",
      "source": [
        "# Cell 8: Prediction Function\n",
        "def predict(temp, atemp, hum, windspeed, season, mnth, hr, holiday, weekday, workingday, weathersit):\n",
        "    model = load_model()\n",
        "\n",
        "    # Prepare input data\n",
        "    input_data = pd.DataFrame([[temp, atemp, hum, windspeed, season, mnth, hr, holiday, weekday, workingday, weathersit]],\n",
        "                               columns=['temp', 'atemp', 'hum', 'windspeed', 'season', 'mnth', 'hr', 'holiday', 'weekday', 'workingday', 'weathersit'])\n",
        "\n",
        "    try:\n",
        "        prediction = model.predict(input_data)\n",
        "        return float(prediction[0])\n",
        "    except Exception as e:\n",
        "        return f\"Error: {str(e)}\"  # Return the error message\n"
      ],
      "metadata": {
        "id": "UTEeip5ugGwe"
      },
      "execution_count": 20,
      "outputs": []
    },
    {
      "cell_type": "markdown",
      "source": [
        "# Deployment"
      ],
      "metadata": {
        "id": "SPtS-5wfgTTV"
      }
    },
    {
      "cell_type": "code",
      "source": [
        "# Cell 9: Gradio Interface Function\n",
        "def gradio_interface():\n",
        "    with gr.Blocks() as demo:\n",
        "        gr.Markdown(\"# Bike Sharing Prediction\")\n",
        "\n",
        "        gr.Markdown(\"\"\"\n",
        "        ## Feature Explanations:\n",
        "\n",
        "        - **Temperature (temp)**: Normalized temperature in Celsius (0 to 1).\n",
        "        - **Feeling Temperature (atemp)**: Normalized temperature in Celsius adjusted for human perception (0 to 1).\n",
        "        - **Humidity (hum)**: Normalized humidity (0 to 1).\n",
        "        - **Windspeed (windspeed)**: Normalized windspeed (0 to 1).\n",
        "        - **Season**:\n",
        "            - 1: Spring\n",
        "            - 2: Summer\n",
        "            - 3: Fall\n",
        "            - 4: Winter\n",
        "        - **Month (mnth)**: Month of the year (1 to 12).\n",
        "        - **Hour (hr)**: Hour of the day (0 to 23).\n",
        "        - **Holiday**: Boolean value indicating if the day is a holiday (0 or 1).\n",
        "        - **Weekday**: Day of the week (0=Sunday, 1=Monday,..., 6=Saturday).\n",
        "        - **Working Day**: Boolean value indicating if the day is a working day (0 or 1).\n",
        "        - **Weather Situation (weathersit)**:\n",
        "            - 1: Clear, Few clouds, Partly cloudy, Partly cloudy\n",
        "            - 2: Mist + Cloudy, Mist + Broken clouds, Mist + Few clouds, Mist\n",
        "            - 3: Light Snow, Rain + Thunderstorm + Scattered clouds, Rain + Scattered clouds\n",
        "        \"\"\")\n",
        "\n",
        "        temp = gr.Number(label=\"Normalized Temperature\", value=0.5, precision=2)  # Example range 0-1\n",
        "        atemp = gr.Number(label=\"Normalized Atemp\", value=0.5, precision=2)  # Example range 0-1\n",
        "        hum = gr.Number(label=\"Normalized Humidity\", value=0.5, precision=2)  # Example range 0-1\n",
        "        windspeed = gr.Number(label=\"Normalized Windspeed\", value=0.5, precision=2)  # Example range 0-1\n",
        "        season = gr.Dropdown(choices=[1, 2, 3, 4], label=\"Season (1=Spring, 2=Summer, 3=Fall, 4=Winter)\")\n",
        "        mnth = gr.Dropdown(choices=list(range(1, 13)), label=\"Month (1-12)\")\n",
        "        hr = gr.Number(label=\"Hour (0-23)\", value=12)  # Example range 0-23\n",
        "        holiday = gr.Checkbox(label=\"Holiday\")\n",
        "        weekday = gr.Dropdown(choices=list(range(0, 7)), label=\"Weekday (0=Sunday, 1=Monday,..., 6=Saturday)\")\n",
        "        workingday = gr.Checkbox(label=\"Working Day\")\n",
        "        weathersit = gr.Dropdown(choices=[1, 2, 3], label=\"Weather Situation (1=Clear, 2=Mist, 3=Light Snow)\")\n",
        "\n",
        "        submit_btn = gr.Button(\"Predict\")\n",
        "        output = gr.Textbox(label=\"Predicted Bike Count\")\n",
        "\n",
        "        def predict_and_display(*inputs):\n",
        "            prediction = predict(*inputs)\n",
        "            return f\"Predicted Bike Count: {prediction}\"\n",
        "\n",
        "        submit_btn.click(predict_and_display,\n",
        "                         inputs=[temp, atemp, hum, windspeed, season, mnth, hr, holiday, weekday, workingday, weathersit],\n",
        "                         outputs=output)\n",
        "\n",
        "    return demo\n",
        "\n",
        "# Cell 10: Launch the Gradio App\n",
        "demo = gradio_interface()\n",
        "demo.launch()"
      ],
      "metadata": {
        "colab": {
          "base_uri": "https://localhost:8080/",
          "height": 646
        },
        "id": "6J3C_q34gR0k",
        "outputId": "81367354-272d-47a0-d32b-7c9f311c479f"
      },
      "execution_count": 21,
      "outputs": [
        {
          "output_type": "stream",
          "name": "stdout",
          "text": [
            "Running Gradio in a Colab notebook requires sharing enabled. Automatically setting `share=True` (you can turn this off by setting `share=False` in `launch()` explicitly).\n",
            "\n",
            "Colab notebook detected. To show errors in colab notebook, set debug=True in launch()\n",
            "* Running on public URL: https://1706d549a3d3d818fd.gradio.live\n",
            "\n",
            "This share link expires in 72 hours. For free permanent hosting and GPU upgrades, run `gradio deploy` from the terminal in the working directory to deploy to Hugging Face Spaces (https://huggingface.co/spaces)\n"
          ]
        },
        {
          "output_type": "display_data",
          "data": {
            "text/plain": [
              "<IPython.core.display.HTML object>"
            ],
            "text/html": [
              "<div><iframe src=\"https://1706d549a3d3d818fd.gradio.live\" width=\"100%\" height=\"500\" allow=\"autoplay; camera; microphone; clipboard-read; clipboard-write;\" frameborder=\"0\" allowfullscreen></iframe></div>"
            ]
          },
          "metadata": {}
        },
        {
          "output_type": "execute_result",
          "data": {
            "text/plain": []
          },
          "metadata": {},
          "execution_count": 21
        }
      ]
    },
    {
      "cell_type": "code",
      "source": [],
      "metadata": {
        "id": "gWzUYRlv-Q2D"
      },
      "execution_count": null,
      "outputs": []
    }
  ]
}